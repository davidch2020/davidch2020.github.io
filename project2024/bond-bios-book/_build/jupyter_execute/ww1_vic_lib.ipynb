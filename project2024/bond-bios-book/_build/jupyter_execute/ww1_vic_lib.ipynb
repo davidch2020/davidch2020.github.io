{
 "cells": [
  {
   "cell_type": "markdown",
   "metadata": {},
   "source": [
    "# The Liberty and Victory Loans Issued to Fund World War I\n",
    "Team members: Elan Wang, Liam Loughead"
   ]
  },
  {
   "cell_type": "code",
   "execution_count": 1,
   "metadata": {
    "id": "2CPZ73SjRYup"
   },
   "outputs": [],
   "source": [
    "import pandas as pd\n",
    "import numpy as np\n",
    "import calendar as cal\n",
    "import matplotlib.pyplot as plt\n",
    "import ipywidgets as widgets\n",
    "import random\n",
    "plt.ion()\n",
    "\n",
    "import matplotlib.patches as mpatches\n",
    "import matplotlib.colors as mcolors\n",
    "import datetime\n",
    "#%matplotlib ipympl"
   ]
  },
  {
   "cell_type": "markdown",
   "metadata": {},
   "source": [
    "## Overview\n",
    "### Questions that will be answered for each bond:\n",
    " - What were the features of the bond?\n",
    " - Why the bond was issued?\n",
    " - How much was authorized and how much was sold?\n",
    " - At what price was the bond originally sold and what was the price history on the secondary market?\n",
    " - When was the bond redeemed?"
   ]
  },
  {
   "cell_type": "code",
   "execution_count": 2,
   "metadata": {
    "id": "Np0HHn_vTOHf"
   },
   "outputs": [
    {
     "data": {
      "text/plain": [
       "'\\ncolsfinaldates = [  \"Authorizing Act Date\",\\n                    \"First Issue Date\",\\n                    \"First Redemption Date\",\\n                    \"Final Redemption Date\",\\n                    \"Redeemable After Date\",\\n                    \"Payable Date\"\\n                 ]\\nBondList = pd.read_csv(\"data/BondList.csv\", index_col=0)\\nfor col in colsfinaldates:\\n    BondList[col] = pd.to_datetime(BondList[col])\\n\\nBondQuant = pd.read_csv(\"data/BondQuant.csv\")\\nBondQuant = BondQuant.set_index([\\'L1 ID\\', \\'Series\\'], drop = True)\\nBondQuant.index = pd.to_datetime(BondQuant.index)\\n\\nBondPrice = pd.read_csv(\"data/BondPrice.csv\")\\nBondPrice = BondPrice.set_index([\\'L1 ID\\', \\'Series\\'], drop = True)\\nBondPrice.index = pd.to_datetime(BondPrice.index)\\n'"
      ]
     },
     "execution_count": 2,
     "metadata": {},
     "output_type": "execute_result"
    }
   ],
   "source": [
    "Bondh5 = pd.HDFStore(\"data/BondDF.h5\", mode=\"r\")\n",
    "BondList = Bondh5[\"BondList\"]\n",
    "BondQuant = Bondh5[\"BondQuant\"]\n",
    "BondPrice = Bondh5[\"BondPrice\"]\n",
    "Bondh5.close()\n",
    "'''\n",
    "colsfinaldates = [  \"Authorizing Act Date\",\n",
    "                    \"First Issue Date\",\n",
    "                    \"First Redemption Date\",\n",
    "                    \"Final Redemption Date\",\n",
    "                    \"Redeemable After Date\",\n",
    "                    \"Payable Date\"\n",
    "                 ]\n",
    "BondList = pd.read_csv(\"data/BondList.csv\", index_col=0)\n",
    "for col in colsfinaldates:\n",
    "    BondList[col] = pd.to_datetime(BondList[col])\n",
    "\n",
    "BondQuant = pd.read_csv(\"data/BondQuant.csv\")\n",
    "BondQuant = BondQuant.set_index(['L1 ID', 'Series'], drop = True)\n",
    "BondQuant.index = pd.to_datetime(BondQuant.index)\n",
    "\n",
    "BondPrice = pd.read_csv(\"data/BondPrice.csv\")\n",
    "BondPrice = BondPrice.set_index(['L1 ID', 'Series'], drop = True)\n",
    "BondPrice.index = pd.to_datetime(BondPrice.index)\n",
    "'''"
   ]
  },
  {
   "cell_type": "code",
   "execution_count": 3,
   "metadata": {},
   "outputs": [],
   "source": [
    "# Helper functions\n",
    "\n",
    "def get_cf_as_string(row):\n",
    "    \"\"\"\n",
    "    Takes a row from the BondList frame and returns the a string indicating the month which the bond\n",
    "    is scheduled.\n",
    "    \"\"\"\n",
    "  \n",
    "    for i in range(1, 13):\n",
    "        if row[f\"CF{str(i).zfill(2)}\"] > 0: return cal.month_name[i]\n",
    "    if row[\"Ambiguous\"] > 0: return \"Ambiguous\"\n",
    "    return \"N/A\"\n",
    "\n",
    "def is_nan(value):\n",
    "    \"\"\"\n",
    "    Utility to check if a value is nan\n",
    "    \"\"\"\n",
    "    str_value = str(value)\n",
    "    if str_value == \"nan\" or str_value == \"NaT\": return True"
   ]
  },
  {
   "cell_type": "markdown",
   "metadata": {
    "id": "dt-8N88jMVBz"
   },
   "source": [
    "## Liberty & Victory Loans\n",
    "\n",
    " - [This concise article](https://www.federalreservehistory.org/essays/liberty-bonds#footnote1) gives a summary of the bonds\n",
    " - Bonds are conveniently classified under the level three category \"Liberty Loan\"\n",
    " - These bonds were used to fund World War I\n",
    " - The below cell isolates and prints information about the liberty loans from the BondList dataframe\n",
    " - Note: These are all par bonds, meaning their original price is equal to their face value."
   ]
  },
  {
   "cell_type": "code",
   "execution_count": 4,
   "metadata": {
    "colab": {
     "base_uri": "https://localhost:8080/",
     "height": 1000
    },
    "id": "-fliVTWQtVNJ",
    "outputId": "14839728-77e3-41ee-b7d6-72c6a6b24694"
   },
   "outputs": [],
   "source": [
    "#Change the pandas float format when using the str() function - removes extra 0s and makes\n",
    "#the output more readable\n",
    "pd.options.display.float_format = '${:,.0f}'.format\n",
    "\n",
    "#Define the liberty loans sub-dataframe\n",
    "BondList.sort_values(by=[\"First Issue Date\"], ascending=True, inplace=True)\n",
    "liberty_loans = BondList.loc[(BondList['Category L3'] == \"Liberty Loan\")]\n",
    "BondList.iloc[:, 0]\n",
    "\n",
    "#Define a helper function to summarize a bond\n",
    "def summarize_bond(bond_row):\n",
    "  noi = bond_row[\"Treasury's Name Of Issue\"] # noi：\n",
    "  print(f\"Bond #{bond_row['Issue L1 ID']}: {noi}{', issued ' + str(bond_row['First Issue Date']) if not is_nan(bond_row['First Issue Date']) else ''}\")\n",
    "  if is_nan(bond_row[\"Term Of Loan\"]):\n",
    "    print(\"   No further information\")\n",
    "    return bond_row\n",
    "  print(f\"   Term: {bond_row['Term Of Loan']}, Redeemable: {bond_row['Redeemable After Date']}, Payable: {bond_row['Payable Date']}\")\n",
    "  print(f\"   Coupon: {bond_row['Coupon Rate']}, Frequency: {bond_row['Coupons Per Year']}/year, Scheduled Month: {get_cf_as_string(bond_row)}\")\n",
    "  print(\"---------------------------------------------------\")\n",
    "  return bond_row\n",
    "\n",
    "#Uncomment to print a summary of all bonds labeled \"Liberty Loan\"\n",
    "#liberty_loans.apply(summarize_bond, axis=1)\n",
    "#print(\"Done\") #Print Done so the cell output does not include the dataframe snippet"
   ]
  },
  {
   "cell_type": "code",
   "execution_count": 5,
   "metadata": {},
   "outputs": [],
   "source": [
    "#Helper formatting function for large sums of money\n",
    "def big_numbers_format(x, pos):\n",
    "    strx = str(x)\n",
    "    if x >= 1e9:\n",
    "        return f\"{strx[0]}.{strx[1:4]}b\"\n",
    "    if x >= 1e8:\n",
    "        return f\"{strx[:3]}.{strx[3]}m\"\n",
    "    return f\"{strx}\"\n",
    "\n",
    "def big_dollars_format(x, pos):\n",
    "    return f\"${big_numbers_format(x, None)}\"\n",
    "\n",
    "#BondQuant_Transposed is months x bond, as opposed to bond x months\n",
    "BondQuant_Transposed = BondQuant.transpose()\n",
    "#Do the same for BondPrice\n",
    "BondPrice_Transposed = BondPrice.transpose()\n",
    "\n",
    "#define some important dates for context\n",
    "graph_start_ts = pd.Timestamp(\"1917-1-1\") #Starting the graph from here gives it a nice left margin\n",
    "join_ts = datetime.datetime.fromisoformat(\"1917-04-04\")\n",
    "armistice_ts = datetime.datetime.fromisoformat(\"1918-11-11\")\n",
    "depression_begin_ts = datetime.datetime.fromisoformat(\"1920-01-01\")\n",
    "depression_end_ts = datetime.datetime.fromisoformat(\"1921-07-01\")\n",
    "\n",
    "#Helper function to format axes correctly\n",
    "def format_and_annotate_ax(bond_ids, ax, closest_date):\n",
    "    #Sets the right limit to the \"closest\" (to today) date plus 2 months to give it a nice right margin\n",
    "    ax.set_xlim(left=graph_start_ts, right=closest_date + pd.DateOffset(months=2))\n",
    "\n",
    "    ax.legend(labels=[BondList.loc[x][\"Treasury's Name Of Issue\"] for x in bond_ids], bbox_to_anchor=(0.65,-0.2))\n",
    "    ax.get_legend().set_title(\"Color, Bond ID\")\n",
    "\n",
    "    war_patch = mpatches.Patch(fc=\"#ed7784\", label='US time in WW1', alpha=0.65)\n",
    "    ax.axvspan(xmin=join_ts, xmax=armistice_ts, fc=\"#ed7784\", alpha=0.65)\n",
    "    depression_patch = mpatches.Patch(fc=\"#ad2df7\", label='Depression', alpha=0.65)\n",
    "    ax.axvspan(xmin=depression_begin_ts, xmax=depression_end_ts, fc=\"#ad2df7\", alpha=0.65)\n",
    "    twinx = ax.twinx()\n",
    "    twinx.legend(handles=[war_patch, depression_patch], bbox_to_anchor=(1,-0.2), title=\"Events\")\n",
    "    twinx.set_axis_off()\n",
    "    plt.grid(True)"
   ]
  },
  {
   "cell_type": "code",
   "execution_count": 6,
   "metadata": {},
   "outputs": [],
   "source": [
    "#Taking a list of bond IDs, create a graph of their quantities in the Public Holdings category\n",
    "#Creates a new figure for each graph\n",
    "def graph_public_for_bqs(bond_ids, axes=None, title=\"\"):\n",
    "    plt.figure(num=random.randint(0, 10000))\n",
    "    current_ax = plt.gca()\n",
    "    closer_date = graph_start_ts\n",
    "    for id in bond_ids:\n",
    "        series = BondQuant_Transposed.loc[(id, 'Public Holdings')]\n",
    "        series = series[series.notna()]\n",
    "        ax = series.plot.line(ax=current_ax, title=title,\n",
    "                              legend=True, sharex=True, sharey=True, xlabel=\"Time\",\n",
    "                              ylabel=\"Quantity of Bonds\", **{'marker': '.'})\n",
    "        if current_ax == None: current_ax = ax\n",
    "        closer_date = series.index[len(series)-1] if series.index[len(series)-1] > closer_date else closer_date\n",
    "    ax.yaxis.set_major_formatter(big_numbers_format)\n",
    "    format_and_annotate_ax(bond_ids, ax, closer_date)\n",
    "    plt.gcf().tight_layout()\n",
    "    plt.show()\n",
    "    current_ax = None"
   ]
  },
  {
   "cell_type": "code",
   "execution_count": 7,
   "metadata": {},
   "outputs": [],
   "source": [
    "#Taking a list of bond IDs, create a graph of their average price on the secondary market.\n",
    "#Creates a new figure for each graph\n",
    "def graph_avg_price(bond_ids, axes=None, title=\"\"):\n",
    "    plt.figure(num=random.randint(0, 10000))\n",
    "    current_ax = plt.gca()\n",
    "    closer_date = graph_start_ts\n",
    "    for id in bond_ids:\n",
    "        series = BondPrice_Transposed.loc[(id, 'Average')]\n",
    "        series = series[series.notna()]\n",
    "        if len(series) < 1:\n",
    "            noi = liberty_loans.loc[id][\"Treasury's Name Of Issue\"]\n",
    "            print(f\"Warning: bond {noi} could not be graphed, no prices are recorded\")\n",
    "            continue\n",
    "        ax = series.plot.line(ax=current_ax, title=title,\n",
    "                              legend=True, sharex=True, sharey=True, xlabel=\"Time\",\n",
    "                              ylabel=\"Price of Bonds\", **{'marker': '.'})\n",
    "        if current_ax == None: current_ax = ax\n",
    "        closer_date = series.index[len(series)-1] if series.index[len(series)-1] > closer_date else closer_date\n",
    "    ax.yaxis.set_major_formatter(big_dollars_format)\n",
    "    format_and_annotate_ax(bond_ids, ax, closer_date)\n",
    "    plt.gcf().tight_layout()\n",
    "    plt.show()\n",
    "    current_ax = None"
   ]
  },
  {
   "cell_type": "markdown",
   "metadata": {},
   "source": [
    "## 1st Liberty Loan of 1917\n",
    "This loan was the first bond used to fund World War I. It also featured the option to convert it so that it would have a higher coupon rate. Generally, convertible bonds are normally corporate bonds. However, in this case, when a bond is **convertible**, it is able to be converted into an issue with a higher coupon rate (Kang, 2015). Thus, it was converted to having a coupon rate of 4% once and 4.25% twice in 1918. This loan had 4 million subscribers, and offered 2 billion dollars while 3.035 billion dollars were subscribed, but only 2 billion dollars were accepted (Rockoff, 2012). An average of 759 dollars were subscribed (Kang, 2015). "
   ]
  },
  {
   "cell_type": "code",
   "execution_count": 8,
   "metadata": {
    "scrolled": true
   },
   "outputs": [
    {
     "name": "stdout",
     "output_type": "stream",
     "text": [
      "Bond #162: 1st Liberty Loan of 1917 (3.5%), issued 1917-06-30 00:00:00\n",
      "   Term: 30 years, Redeemable: 1932-06-15 00:00:00, Payable: 1947-06-15 00:00:00\n",
      "   Coupon: 3.5, Frequency: 2.0/year, Scheduled Month: June\n",
      "---------------------------------------------------\n",
      "Bond #163: 1st Liberty Loan Converted to 4%, issued 1918-11-30 00:00:00\n",
      "   Term: 30 years, Redeemable: 1932-06-15 00:00:00, Payable: 1947-06-15 00:00:00\n",
      "   Coupon: 4.0, Frequency: 2.0/year, Scheduled Month: June\n",
      "---------------------------------------------------\n",
      "Bond #164: 1st Liberty Loan Converted to 4.25%, issued 1918-11-30 00:00:00\n",
      "   Term: 30 years, Redeemable: 1932-06-15 00:00:00, Payable: 1947-06-15 00:00:00\n",
      "   Coupon: 4.25, Frequency: 2.0/year, Scheduled Month: June\n",
      "---------------------------------------------------\n",
      "Bond #165: 1st Liberty Loan Second Converted to 4.25%, issued 1918-10-24 00:00:00\n",
      "   Term: 30 years, Redeemable: 1932-06-15 00:00:00, Payable: 1947-06-15 00:00:00\n",
      "   Coupon: 4.25, Frequency: 2.0/year, Scheduled Month: June\n",
      "---------------------------------------------------\n"
     ]
    },
    {
     "ename": "AttributeError",
     "evalue": "'Legend' object has no attribute 'legendHandles'",
     "output_type": "error",
     "traceback": [
      "\u001b[0;31m---------------------------------------------------------------------------\u001b[0m",
      "\u001b[0;31mAttributeError\u001b[0m                            Traceback (most recent call last)",
      "Cell \u001b[0;32mIn[8], line 12\u001b[0m\n\u001b[1;32m      8\u001b[0m     \u001b[38;5;28;01mreturn\u001b[39;00m bond_row\n\u001b[1;32m     10\u001b[0m liberty_loans\u001b[38;5;241m.\u001b[39msort_index()\u001b[38;5;241m.\u001b[39mapply(summarize_only_first, axis\u001b[38;5;241m=\u001b[39m\u001b[38;5;241m1\u001b[39m)\n\u001b[0;32m---> 12\u001b[0m \u001b[43mgraph_public_for_bqs\u001b[49m\u001b[43m(\u001b[49m\u001b[43mbond_ids\u001b[49m\u001b[43m,\u001b[49m\u001b[43m \u001b[49m\u001b[43mtitle\u001b[49m\u001b[38;5;241;43m=\u001b[39;49m\u001b[38;5;124;43m\"\u001b[39;49m\u001b[38;5;124;43mFirst Liberty Loan(s) Public Holdings\u001b[39;49m\u001b[38;5;124;43m\"\u001b[39;49m\u001b[43m)\u001b[49m\n\u001b[1;32m     13\u001b[0m \u001b[38;5;28mprint\u001b[39m(\u001b[38;5;124m\"\u001b[39m\u001b[38;5;124mDone\u001b[39m\u001b[38;5;124m\"\u001b[39m)\n\u001b[1;32m     14\u001b[0m graph_avg_price(bond_ids, title\u001b[38;5;241m=\u001b[39m\u001b[38;5;124m\"\u001b[39m\u001b[38;5;124mFirst Liberty Loan(s) Secondary Market Price\u001b[39m\u001b[38;5;124m\"\u001b[39m)\n",
      "Cell \u001b[0;32mIn[6], line 10\u001b[0m, in \u001b[0;36mgraph_public_for_bqs\u001b[0;34m(bond_ids, axes, title)\u001b[0m\n\u001b[1;32m      8\u001b[0m series \u001b[38;5;241m=\u001b[39m BondQuant_Transposed\u001b[38;5;241m.\u001b[39mloc[(\u001b[38;5;28mid\u001b[39m, \u001b[38;5;124m'\u001b[39m\u001b[38;5;124mPublic Holdings\u001b[39m\u001b[38;5;124m'\u001b[39m)]\n\u001b[1;32m      9\u001b[0m series \u001b[38;5;241m=\u001b[39m series[series\u001b[38;5;241m.\u001b[39mnotna()]\n\u001b[0;32m---> 10\u001b[0m ax \u001b[38;5;241m=\u001b[39m \u001b[43mseries\u001b[49m\u001b[38;5;241;43m.\u001b[39;49m\u001b[43mplot\u001b[49m\u001b[38;5;241;43m.\u001b[39;49m\u001b[43mline\u001b[49m\u001b[43m(\u001b[49m\u001b[43max\u001b[49m\u001b[38;5;241;43m=\u001b[39;49m\u001b[43mcurrent_ax\u001b[49m\u001b[43m,\u001b[49m\u001b[43m \u001b[49m\u001b[43mtitle\u001b[49m\u001b[38;5;241;43m=\u001b[39;49m\u001b[43mtitle\u001b[49m\u001b[43m,\u001b[49m\n\u001b[1;32m     11\u001b[0m \u001b[43m                      \u001b[49m\u001b[43mlegend\u001b[49m\u001b[38;5;241;43m=\u001b[39;49m\u001b[38;5;28;43;01mTrue\u001b[39;49;00m\u001b[43m,\u001b[49m\u001b[43m \u001b[49m\u001b[43msharex\u001b[49m\u001b[38;5;241;43m=\u001b[39;49m\u001b[38;5;28;43;01mTrue\u001b[39;49;00m\u001b[43m,\u001b[49m\u001b[43m \u001b[49m\u001b[43msharey\u001b[49m\u001b[38;5;241;43m=\u001b[39;49m\u001b[38;5;28;43;01mTrue\u001b[39;49;00m\u001b[43m,\u001b[49m\u001b[43m \u001b[49m\u001b[43mxlabel\u001b[49m\u001b[38;5;241;43m=\u001b[39;49m\u001b[38;5;124;43m\"\u001b[39;49m\u001b[38;5;124;43mTime\u001b[39;49m\u001b[38;5;124;43m\"\u001b[39;49m\u001b[43m,\u001b[49m\n\u001b[1;32m     12\u001b[0m \u001b[43m                      \u001b[49m\u001b[43mylabel\u001b[49m\u001b[38;5;241;43m=\u001b[39;49m\u001b[38;5;124;43m\"\u001b[39;49m\u001b[38;5;124;43mQuantity of Bonds\u001b[39;49m\u001b[38;5;124;43m\"\u001b[39;49m\u001b[43m,\u001b[49m\u001b[43m \u001b[49m\u001b[38;5;241;43m*\u001b[39;49m\u001b[38;5;241;43m*\u001b[39;49m\u001b[43m{\u001b[49m\u001b[38;5;124;43m'\u001b[39;49m\u001b[38;5;124;43mmarker\u001b[39;49m\u001b[38;5;124;43m'\u001b[39;49m\u001b[43m:\u001b[49m\u001b[43m \u001b[49m\u001b[38;5;124;43m'\u001b[39;49m\u001b[38;5;124;43m.\u001b[39;49m\u001b[38;5;124;43m'\u001b[39;49m\u001b[43m}\u001b[49m\u001b[43m)\u001b[49m\n\u001b[1;32m     13\u001b[0m \u001b[38;5;28;01mif\u001b[39;00m current_ax \u001b[38;5;241m==\u001b[39m \u001b[38;5;28;01mNone\u001b[39;00m: current_ax \u001b[38;5;241m=\u001b[39m ax\n\u001b[1;32m     14\u001b[0m closer_date \u001b[38;5;241m=\u001b[39m series\u001b[38;5;241m.\u001b[39mindex[\u001b[38;5;28mlen\u001b[39m(series)\u001b[38;5;241m-\u001b[39m\u001b[38;5;241m1\u001b[39m] \u001b[38;5;28;01mif\u001b[39;00m series\u001b[38;5;241m.\u001b[39mindex[\u001b[38;5;28mlen\u001b[39m(series)\u001b[38;5;241m-\u001b[39m\u001b[38;5;241m1\u001b[39m] \u001b[38;5;241m>\u001b[39m closer_date \u001b[38;5;28;01melse\u001b[39;00m closer_date\n",
      "File \u001b[0;32m/Library/Frameworks/Python.framework/Versions/3.12/lib/python3.12/site-packages/pandas/plotting/_core.py:1069\u001b[0m, in \u001b[0;36mPlotAccessor.line\u001b[0;34m(self, x, y, **kwargs)\u001b[0m\n\u001b[1;32m   1004\u001b[0m \u001b[38;5;129m@Appender\u001b[39m(\n\u001b[1;32m   1005\u001b[0m \u001b[38;5;250m    \u001b[39m\u001b[38;5;124;03m\"\"\"\u001b[39;00m\n\u001b[1;32m   1006\u001b[0m \u001b[38;5;124;03m    See Also\u001b[39;00m\n\u001b[0;32m   (...)\u001b[0m\n\u001b[1;32m   1061\u001b[0m \u001b[38;5;129m@Appender\u001b[39m(_bar_or_line_doc)\n\u001b[1;32m   1062\u001b[0m \u001b[38;5;28;01mdef\u001b[39;00m \u001b[38;5;21mline\u001b[39m(\u001b[38;5;28mself\u001b[39m, x\u001b[38;5;241m=\u001b[39m\u001b[38;5;28;01mNone\u001b[39;00m, y\u001b[38;5;241m=\u001b[39m\u001b[38;5;28;01mNone\u001b[39;00m, \u001b[38;5;241m*\u001b[39m\u001b[38;5;241m*\u001b[39mkwargs) \u001b[38;5;241m-\u001b[39m\u001b[38;5;241m>\u001b[39m PlotAccessor:\n\u001b[1;32m   1063\u001b[0m \u001b[38;5;250m    \u001b[39m\u001b[38;5;124;03m\"\"\"\u001b[39;00m\n\u001b[1;32m   1064\u001b[0m \u001b[38;5;124;03m    Plot Series or DataFrame as lines.\u001b[39;00m\n\u001b[1;32m   1065\u001b[0m \n\u001b[1;32m   1066\u001b[0m \u001b[38;5;124;03m    This function is useful to plot lines using DataFrame's values\u001b[39;00m\n\u001b[1;32m   1067\u001b[0m \u001b[38;5;124;03m    as coordinates.\u001b[39;00m\n\u001b[1;32m   1068\u001b[0m \u001b[38;5;124;03m    \"\"\"\u001b[39;00m\n\u001b[0;32m-> 1069\u001b[0m     \u001b[38;5;28;01mreturn\u001b[39;00m \u001b[38;5;28;43mself\u001b[39;49m\u001b[43m(\u001b[49m\u001b[43mkind\u001b[49m\u001b[38;5;241;43m=\u001b[39;49m\u001b[38;5;124;43m\"\u001b[39;49m\u001b[38;5;124;43mline\u001b[39;49m\u001b[38;5;124;43m\"\u001b[39;49m\u001b[43m,\u001b[49m\u001b[43m \u001b[49m\u001b[43mx\u001b[49m\u001b[38;5;241;43m=\u001b[39;49m\u001b[43mx\u001b[49m\u001b[43m,\u001b[49m\u001b[43m \u001b[49m\u001b[43my\u001b[49m\u001b[38;5;241;43m=\u001b[39;49m\u001b[43my\u001b[49m\u001b[43m,\u001b[49m\u001b[43m \u001b[49m\u001b[38;5;241;43m*\u001b[39;49m\u001b[38;5;241;43m*\u001b[39;49m\u001b[43mkwargs\u001b[49m\u001b[43m)\u001b[49m\n",
      "File \u001b[0;32m/Library/Frameworks/Python.framework/Versions/3.12/lib/python3.12/site-packages/pandas/plotting/_core.py:1000\u001b[0m, in \u001b[0;36mPlotAccessor.__call__\u001b[0;34m(self, *args, **kwargs)\u001b[0m\n\u001b[1;32m    997\u001b[0m             label_name \u001b[38;5;241m=\u001b[39m label_kw \u001b[38;5;129;01mor\u001b[39;00m data\u001b[38;5;241m.\u001b[39mcolumns\n\u001b[1;32m    998\u001b[0m             data\u001b[38;5;241m.\u001b[39mcolumns \u001b[38;5;241m=\u001b[39m label_name\n\u001b[0;32m-> 1000\u001b[0m \u001b[38;5;28;01mreturn\u001b[39;00m \u001b[43mplot_backend\u001b[49m\u001b[38;5;241;43m.\u001b[39;49m\u001b[43mplot\u001b[49m\u001b[43m(\u001b[49m\u001b[43mdata\u001b[49m\u001b[43m,\u001b[49m\u001b[43m \u001b[49m\u001b[43mkind\u001b[49m\u001b[38;5;241;43m=\u001b[39;49m\u001b[43mkind\u001b[49m\u001b[43m,\u001b[49m\u001b[43m \u001b[49m\u001b[38;5;241;43m*\u001b[39;49m\u001b[38;5;241;43m*\u001b[39;49m\u001b[43mkwargs\u001b[49m\u001b[43m)\u001b[49m\n",
      "File \u001b[0;32m/Library/Frameworks/Python.framework/Versions/3.12/lib/python3.12/site-packages/pandas/plotting/_matplotlib/__init__.py:71\u001b[0m, in \u001b[0;36mplot\u001b[0;34m(data, kind, **kwargs)\u001b[0m\n\u001b[1;32m     69\u001b[0m         kwargs[\u001b[38;5;124m\"\u001b[39m\u001b[38;5;124max\u001b[39m\u001b[38;5;124m\"\u001b[39m] \u001b[38;5;241m=\u001b[39m \u001b[38;5;28mgetattr\u001b[39m(ax, \u001b[38;5;124m\"\u001b[39m\u001b[38;5;124mleft_ax\u001b[39m\u001b[38;5;124m\"\u001b[39m, ax)\n\u001b[1;32m     70\u001b[0m plot_obj \u001b[38;5;241m=\u001b[39m PLOT_CLASSES[kind](data, \u001b[38;5;241m*\u001b[39m\u001b[38;5;241m*\u001b[39mkwargs)\n\u001b[0;32m---> 71\u001b[0m \u001b[43mplot_obj\u001b[49m\u001b[38;5;241;43m.\u001b[39;49m\u001b[43mgenerate\u001b[49m\u001b[43m(\u001b[49m\u001b[43m)\u001b[49m\n\u001b[1;32m     72\u001b[0m plot_obj\u001b[38;5;241m.\u001b[39mdraw()\n\u001b[1;32m     73\u001b[0m \u001b[38;5;28;01mreturn\u001b[39;00m plot_obj\u001b[38;5;241m.\u001b[39mresult\n",
      "File \u001b[0;32m/Library/Frameworks/Python.framework/Versions/3.12/lib/python3.12/site-packages/pandas/plotting/_matplotlib/core.py:454\u001b[0m, in \u001b[0;36mMPLPlot.generate\u001b[0;34m(self)\u001b[0m\n\u001b[1;32m    452\u001b[0m \u001b[38;5;28mself\u001b[39m\u001b[38;5;241m.\u001b[39m_make_plot()\n\u001b[1;32m    453\u001b[0m \u001b[38;5;28mself\u001b[39m\u001b[38;5;241m.\u001b[39m_add_table()\n\u001b[0;32m--> 454\u001b[0m \u001b[38;5;28;43mself\u001b[39;49m\u001b[38;5;241;43m.\u001b[39;49m\u001b[43m_make_legend\u001b[49m\u001b[43m(\u001b[49m\u001b[43m)\u001b[49m\n\u001b[1;32m    455\u001b[0m \u001b[38;5;28mself\u001b[39m\u001b[38;5;241m.\u001b[39m_adorn_subplots()\n\u001b[1;32m    457\u001b[0m \u001b[38;5;28;01mfor\u001b[39;00m ax \u001b[38;5;129;01min\u001b[39;00m \u001b[38;5;28mself\u001b[39m\u001b[38;5;241m.\u001b[39maxes:\n",
      "File \u001b[0;32m/Library/Frameworks/Python.framework/Versions/3.12/lib/python3.12/site-packages/pandas/plotting/_matplotlib/core.py:792\u001b[0m, in \u001b[0;36mMPLPlot._make_legend\u001b[0;34m(self)\u001b[0m\n\u001b[1;32m    790\u001b[0m     title \u001b[38;5;241m=\u001b[39m leg\u001b[38;5;241m.\u001b[39mget_title()\u001b[38;5;241m.\u001b[39mget_text()\n\u001b[1;32m    791\u001b[0m     \u001b[38;5;66;03m# Replace leg.LegendHandles because it misses marker info\u001b[39;00m\n\u001b[0;32m--> 792\u001b[0m     handles \u001b[38;5;241m=\u001b[39m \u001b[43mleg\u001b[49m\u001b[38;5;241;43m.\u001b[39;49m\u001b[43mlegendHandles\u001b[49m\n\u001b[1;32m    793\u001b[0m     labels \u001b[38;5;241m=\u001b[39m [x\u001b[38;5;241m.\u001b[39mget_text() \u001b[38;5;28;01mfor\u001b[39;00m x \u001b[38;5;129;01min\u001b[39;00m leg\u001b[38;5;241m.\u001b[39mget_texts()]\n\u001b[1;32m    795\u001b[0m \u001b[38;5;28;01mif\u001b[39;00m \u001b[38;5;28mself\u001b[39m\u001b[38;5;241m.\u001b[39mlegend:\n",
      "\u001b[0;31mAttributeError\u001b[0m: 'Legend' object has no attribute 'legendHandles'"
     ]
    },
    {
     "data": {
      "image/png": "[encoded data removed]",
      "text/plain": [
       "<Figure size 640x480 with 1 Axes>"
      ]
     },
     "metadata": {},
     "output_type": "display_data"
    }
   ],
   "source": [
    "#%matplotlib ipympl\n",
    "bond_ids = []\n",
    "def summarize_only_first(bond_row):\n",
    "    noi = bond_row[\"Treasury's Name Of Issue\"]\n",
    "    if \"1st Liberty Loan\" in noi:\n",
    "        bond_ids.append(bond_row[\"Issue L1 ID\"] + 20000)\n",
    "        return summarize_bond(bond_row)\n",
    "    return bond_row\n",
    "\n",
    "liberty_loans.sort_index().apply(summarize_only_first, axis=1)\n",
    "\n",
    "graph_public_for_bqs(bond_ids, title=\"First Liberty Loan(s) Public Holdings\")\n",
    "print(\"Done\")\n",
    "graph_avg_price(bond_ids, title=\"First Liberty Loan(s) Secondary Market Price\")\n",
    "print(\"Done\")"
   ]
  },
  {
   "cell_type": "markdown",
   "metadata": {},
   "source": [
    "Here, it is shown that in 1917, the quantity outstanding was at 1,466,335,094, before increasing to nearly 2,000,000,000 and staying around that price before decreasing to around 1,400,000,000 in 1919, staying at around that amount before suddenly decreasing to around 189,928,800. \n",
    "The increase at the beginning can be attributed to many liberty bonds being sold at that time to finance WWI. As this resulted in more citizens and households deciding to own financial assets, the decrease soon after this in late 1919 can be attributed to the increase in discount rates used to curb the increase of bond prices, resulting in depreciation of bond prices. By 1935, most of the debt had already been paid back. "
   ]
  },
  {
   "cell_type": "markdown",
   "metadata": {},
   "source": [
    "## 2nd Liberty Loan\n",
    "This loan was the second bond used to fund World War I. Much like the 1st bond, it had a convertible option; however, unlike the 1st loan, it could only be converted one time, (Kang, 2015). Thus, it was converted to having a coupon rate of 4.25% once in 1918. This loan had 9.4 Million subscribers, and offered 3 billion dollars while 4.618 billion dollars were subscribed, but only 3.809 billion dollars were accepted (Rockoff, 2012). An average of 491 dollars were subscribed (Kang, 2015)."
   ]
  },
  {
   "cell_type": "code",
   "execution_count": null,
   "metadata": {},
   "outputs": [],
   "source": [
    "#%matplotlib ipympl\n",
    "bond_ids = []\n",
    "def summarize_only_first(bond_row):\n",
    "    noi = bond_row[\"Treasury's Name Of Issue\"]\n",
    "    if \"2nd Liberty Loan\" in noi:\n",
    "        bond_ids.append(bond_row[\"Issue L1 ID\"] + 20000)\n",
    "        return summarize_bond(bond_row)\n",
    "    return bond_row\n",
    "\n",
    "liberty_loans.sort_index().apply(summarize_only_first, axis=1)\n",
    "\n",
    "graph_public_for_bqs(bond_ids, title=\"Second Liberty Loan(s) Public Holdings\")\n",
    "graph_avg_price(bond_ids, title=\"Second Liberty Loan(s) Secondary Market Price\")"
   ]
  },
  {
   "cell_type": "markdown",
   "metadata": {},
   "source": [
    "## 3rd Liberty Loan\n",
    "This loan was the third loan used to fund World War I. Unlike the first two loans, it didn't have a convertible option (Kang, 2015). This loan had 18.377 million subscribers, and offered 3 billion dollars while 4.177 billion dollars were subscribed, and all 4.177 billion dollars were accepted (Rockoff, 2012). An average of 227 dollars were subscribed (Kang, 2015). "
   ]
  },
  {
   "cell_type": "code",
   "execution_count": null,
   "metadata": {},
   "outputs": [],
   "source": [
    "#%matplotlib ipympl\n",
    "bond_ids = []\n",
    "def summarize_only_first(bond_row):\n",
    "    noi = bond_row[\"Treasury's Name Of Issue\"]\n",
    "    if \"3rd Liberty Loan\" in noi:\n",
    "        bond_ids.append(bond_row[\"Issue L1 ID\"] + 20000)\n",
    "        return summarize_bond(bond_row)\n",
    "    return bond_row\n",
    "\n",
    "liberty_loans.sort_index().apply(summarize_only_first, axis=1)\n",
    "\n",
    "graph_public_for_bqs(bond_ids, title=\"Third Liberty Loan(s) Public Holdings\")\n",
    "graph_avg_price(bond_ids, title=\"Third Liberty Loan(s) Secondary Market Price\")"
   ]
  },
  {
   "cell_type": "markdown",
   "metadata": {},
   "source": [
    "## 4th Liberty Loan\n",
    "This loan was the fourth loan used to fund World War I. Like the third loan, it didn't have a convertible option (Kang, 2015). This loan had 22.778 Million subscribers, and offered 6 billion dollars while 6.959 billion dollars were subscribed, and all 6.959 billion dollars were accepted (Rockoff, 2012). An average of 306 dollars were subscribed (Kang, 2015). "
   ]
  },
  {
   "cell_type": "code",
   "execution_count": null,
   "metadata": {},
   "outputs": [],
   "source": [
    "#%matplotlib ipympl\n",
    "bond_ids = []\n",
    "def summarize_only_first(bond_row):\n",
    "    noi = bond_row[\"Treasury's Name Of Issue\"]\n",
    "    if \"4th Liberty Loan\" in noi:\n",
    "        bond_ids.append(bond_row[\"Issue L1 ID\"] + 20000)\n",
    "        return summarize_bond(bond_row)\n",
    "    return bond_row\n",
    "\n",
    "liberty_loans.sort_index().apply(summarize_only_first, axis=1)\n",
    "\n",
    "graph_public_for_bqs(bond_ids, title=\"Fourth Liberty Loan(s) Public Holdings\")\n",
    "graph_avg_price(bond_ids, title=\"Fourth Liberty Loan(s) Secondary Market Price\")"
   ]
  },
  {
   "cell_type": "markdown",
   "metadata": {},
   "source": [
    "## Victory Loans\n",
    "These were victory loans used after WWI. This differs from the other bonds as they were issued after WWI rather than during it. Like the third and fourth loans, they didn't have convertible options (Kang, 2015). These loans had 11.803 million subscribers, and offered 4.5 billion dollars while 5.25 billion dollars were subscribed, and only 4.5 billion dollars were accepted (Rockoff, 2012). An average of 445 dollars were subscribed (Kang, 2015). "
   ]
  },
  {
   "cell_type": "code",
   "execution_count": null,
   "metadata": {},
   "outputs": [],
   "source": [
    "#%matplotlib ipympl\n",
    "bond_ids = []\n",
    "def summarize_only_first(bond_row):\n",
    "    noi = bond_row[\"Treasury's Name Of Issue\"]\n",
    "    if \"Victory Liberty Loan\" in noi or \"Vic Lib Loan\" in noi:\n",
    "        bond_ids.append(bond_row[\"Issue L1 ID\"] + 20000)\n",
    "        return summarize_bond(bond_row)\n",
    "    return bond_row\n",
    "\n",
    "liberty_loans.sort_index().apply(summarize_only_first, axis=1)\n",
    "\n",
    "graph_public_for_bqs(bond_ids, title=\"Victory Loan(s) Public Holdings\")\n",
    "graph_avg_price(bond_ids, title=\"Victory Loan(s) Secondary Market Price\")"
   ]
  },
  {
   "cell_type": "markdown",
   "metadata": {},
   "source": [
    "## Price Drop in 1920-1921\n",
    "As seen with the Secondary Market Price graphs of the Liberty and Victory Loans, there was a big drop in bond prices from 1920-1921 for all of these loans. This can be attributed to the Depression of 1920-1921. During this period, unemployment rates rose to 12%, and prices saw a 15% rise (\"In,\" 2021). Overall, the economy suffered a large recession. Consequently, the US government lost a significant amount of credibility, meaning higher yields and lower prices for the bonds were demanded. However, the US quickly recovered from this in 1922, meaning the government was able to gain credit back. Thus, yield demand wasn't as high, and prices as a result rose back up again. \n",
    "\n",
    "### Events potentially leading to price drop:\n",
    "Initially, when the US came out of WWI, the economy was expanding largely: unemployment decreased to 1.4% while productivity & inflation both increased (\"In,\" 2021). However, the Federal Reserve, in order to finance military operations, was trying to keep interest rates low (as this would decrease coupon rates), thus \"inflation increased unchecked, to the growing consternation of policy advisors\" (\"In,\" 2021). Due to reforms initiated to decrease inflation, which included a government spending cut by 75% and an increase of the discount rate, a recession ensued (\"In,\" 2021). "
   ]
  },
  {
   "cell_type": "code",
   "execution_count": null,
   "metadata": {},
   "outputs": [],
   "source": [
    "#Interactive graph: select a bond by its name, and select the checkboxes to show\n",
    "#their price and/or quantity history\n",
    "#Use check marks to show/unshow wartime and 1920-21 depression patches (red and purple respectively)\n",
    "%matplotlib ipympl\n",
    "\n",
    "plt.ioff()\n",
    "\n",
    "war_patch = mpatches.Patch(fc=\"#ed7784\", label='US time in WW1', alpha=0.65)\n",
    "depression_patch = mpatches.Patch(fc=\"#ad2df7\", label='Depression', alpha=0.65)\n",
    "possible_colors = [\"aqua\", \"aquamarine\", \"black\", \"blue\", \"brown\", \"crimson\", \"darkblue\", \"darkgreen\", \"green\", \"indigo\", \"maroon\", \"navy\", \"orangered\", \"purple\", \"teal\"]\n",
    "\n",
    "def bond_name_to_id(name):\n",
    "    return liberty_loans.loc[liberty_loans[\"Treasury's Name Of Issue\"] == name].index[0]\n",
    "\n",
    "def id_to_bond_name(id):\n",
    "    return liberty_loans.loc[id][\"Treasury's Name Of Issue\"]\n",
    "\n",
    "fig = plt.figure(num=random.randint(0, 10000))\n",
    "fig.canvas.header_visible = False\n",
    "ax = plt.gca()\n",
    "ax.yaxis.set_major_formatter(big_numbers_format)\n",
    "ax.set_xlabel(\"Time\")\n",
    "ax.set_ylabel(\"Quantity\")\n",
    "twinx = ax.twinx()\n",
    "twinx.legend(handles=[war_patch, depression_patch], bbox_to_anchor=(1,-0.2), title=\"Events\")\n",
    "twinx.yaxis.set_major_formatter(big_dollars_format)\n",
    "twinx.set_ylabel(\"Price\")\n",
    "plt.grid(True)\n",
    "\n",
    "initial_options = [id_to_bond_name(x) for x in liberty_loans.index]\n",
    "name_dropdown = widgets.Dropdown(\n",
    "    options=initial_options,\n",
    "    value=initial_options[0],\n",
    "    description=\"Name:\")\n",
    "show_quant_checkbox = widgets.Checkbox(value=False, description=\"Show Quantity\")\n",
    "show_price_checkbox = widgets.Checkbox(value=False, description=\"Show Price\")\n",
    "show_wartime_checkbox = widgets.Checkbox(value=True, description=\"Show Wartime\")\n",
    "show_wartime_checkbox.style\n",
    "show_depression_checkbox = widgets.Checkbox(value=True, description=\"Show Depression\")\n",
    "legend_textbox = widgets.HTML()\n",
    "\n",
    "current_depression_polygon = None\n",
    "current_war_polygon = None\n",
    "\n",
    "shown_price_names_and_lines = {}\n",
    "shown_quant_names_and_lines = {}\n",
    "used_colors = []\n",
    "\n",
    "using_dropdown_lock = False\n",
    "\n",
    "#Gets a random color that is not already being used\n",
    "def _get_available_color():\n",
    "    available = []\n",
    "    for color in possible_colors:\n",
    "        if color not in used_colors: available.append(color)\n",
    "    color = random.choice(available)\n",
    "    used_colors.append(color)\n",
    "    return color\n",
    "\n",
    "#Plots a series, handles NaN values\n",
    "def _plot_line(ax, label, series, marker):\n",
    "    series = series[series.notna()]\n",
    "    random_color = _get_available_color()\n",
    "    line2d, = ax.plot(\n",
    "            [series.index[x].to_pydatetime() for x in range(len(series.index))],\n",
    "            [series.loc[:][x] for x in range(len(series.index))], label=label, marker=marker, color=random_color)\n",
    "    return line2d\n",
    "\n",
    "#The legend is an HTML element with a <table> in it\n",
    "def _update_legend():\n",
    "    global legend_textbox\n",
    "    strs = []\n",
    "    strs.append(\"<table><tbody>\")\n",
    "    strs.append(\"<tr><th>Bond name</th><th>Color</th></tr>\")\n",
    "    lines = list(shown_price_names_and_lines.values()) + list(shown_quant_names_and_lines.values())\n",
    "    for line2d in lines:\n",
    "        strs.append(f'<tr style=\"color: {line2d.get_color()}\"><td>{line2d.get_label()}</td><td>{line2d.get_color()}</td></tr>')\n",
    "    strs.append(\"</table></tbody>\")\n",
    "    legend_textbox.value = \"\".join(strs)\n",
    "\n",
    "#Plot a bond, quantity or price\n",
    "def add_bond(bond_name, quant):\n",
    "    global fig, ax, twinx\n",
    "    bond_id = bond_name_to_id(bond_name)\n",
    "    if quant:\n",
    "        series = BondQuant_Transposed.loc[(bond_id, 'Public Holdings')]\n",
    "    else:\n",
    "        series = BondPrice_Transposed.loc[(bond_id, 'Average')]\n",
    "    line2d = _plot_line((ax if quant else twinx), bond_name + (\" (Quantity)\" if quant else \" (Price)\"), series, marker=\"^\" if quant else \".\")\n",
    "    (shown_quant_names_and_lines if quant else shown_price_names_and_lines)[bond_name] = line2d\n",
    "    fig.canvas.draw()\n",
    "    fig.canvas.flush_events()\n",
    "\n",
    "#Remove the plot of a bond, quantity or price\n",
    "def remove_bond(bond_name, quant):\n",
    "    global fig\n",
    "    names_and_lines = shown_quant_names_and_lines if quant else shown_price_names_and_lines\n",
    "    for name, line in names_and_lines.items():\n",
    "        if line.get_label() == bond_name:\n",
    "            used_colors.remove(line.get_color())\n",
    "            line.remove()\n",
    "            ref2 = names_and_lines.pop(name)\n",
    "            del ref2\n",
    "            del line\n",
    "            break\n",
    "    fig.canvas.draw()\n",
    "    fig.canvas.flush_events()\n",
    "\n",
    "def bond_name_dropdown_handler(unused_arg):\n",
    "    global using_dropdown_lock\n",
    "    using_dropdown_lock = True\n",
    "    name = name_dropdown.value\n",
    "    show_price_checkbox.value = name in shown_price_names_and_lines\n",
    "    show_quant_checkbox.value = name in shown_quant_names_and_lines\n",
    "    using_dropdown_lock = False\n",
    "\n",
    "def quant_checkbox_handler(unused_arg):\n",
    "    if using_dropdown_lock: return\n",
    "    name = name_dropdown.value\n",
    "    if show_quant_checkbox.value: add_bond(name, True)\n",
    "    else: remove_bond(name, True)\n",
    "    _update_legend()\n",
    "\n",
    "def price_checkbox_handler(unused_arg):\n",
    "    if using_dropdown_lock: return\n",
    "    name = name_dropdown.value\n",
    "    if show_price_checkbox.value: add_bond(name, False)\n",
    "    else: remove_bond(name, False)\n",
    "    _update_legend()\n",
    "\n",
    "def wartime_checkbox_handler(unused_arg):\n",
    "    global current_war_polygon\n",
    "    if current_war_polygon == None:\n",
    "        current_war_polygon = ax.axvspan(xmin=join_ts, xmax=armistice_ts, fc=\"#ed7784\", alpha=0.65)\n",
    "    else:\n",
    "        current_war_polygon.remove()\n",
    "        current_war_polygon = None\n",
    "    fig.canvas.draw()\n",
    "    fig.canvas.flush_events()\n",
    "\n",
    "def depression_checkbox_handler(unused_arg):\n",
    "    global current_depression_polygon\n",
    "    if current_depression_polygon == None:\n",
    "        current_depression_polygon = ax.axvspan(xmin=depression_begin_ts, xmax=depression_end_ts, fc=\"#ad2df7\", alpha=0.65)\n",
    "    else:\n",
    "        current_depression_polygon.remove()\n",
    "        current_depression_polygon = None\n",
    "    fig.canvas.draw()\n",
    "    fig.canvas.flush_events()\n",
    "\n",
    "name_dropdown.observe(bond_name_dropdown_handler)\n",
    "show_quant_checkbox.observe(quant_checkbox_handler)\n",
    "show_price_checkbox.observe(price_checkbox_handler)\n",
    "show_wartime_checkbox.observe(wartime_checkbox_handler)\n",
    "show_depression_checkbox.observe(depression_checkbox_handler)\n",
    "wartime_checkbox_handler(None)\n",
    "depression_checkbox_handler(None)\n",
    "app = widgets.AppLayout(\n",
    "    header=widgets.HBox([name_dropdown, show_quant_checkbox, show_price_checkbox]),\n",
    "    center=widgets.HBox([fig.canvas, legend_textbox]),\n",
    "    footer=widgets.HBox([show_wartime_checkbox, show_depression_checkbox]),\n",
    "    merge=True,\n",
    "    pane_heights=[\"30px\",5,\"30px\"]\n",
    ")\n",
    "app"
   ]
  },
  {
   "cell_type": "markdown",
   "metadata": {},
   "source": [
    "# Supplementary Materials\n",
    "\n",
    "### Figures\n",
    "Each bond has one cell dedicated to it. This cell outputs three items: a worded summary of the features of each bond, a graph of its quantity over time, and a graph of its price on the secondary market over time. Note that many bonds have differing options for interest rates (the convertible bonds), which is why most worded summaries and figures will show different bond entries for the same bond name."
   ]
  },
  {
   "cell_type": "markdown",
   "metadata": {},
   "source": [
    "## Dataframe format notes\n",
    " - A PDF ReadMe for the dataframe is available on github [here](https://github.com/jepayne/US-Federal-Debt-Public/blob/master/Industrial-Suite/Documentation/ReadMe_Pub_20180910.pdf)\n",
    " - The order in which the categories are listed is not necessarily the same; some are switched to make the list read more logically\n",
    "\n",
    "### BondList\n",
    " - Import id is not used\n",
    " - Category L* describes the category in level L*\n",
    " - Category L* ID is the numeric ID of the above\n",
    " - Issue IDs are the numeric ID of a bond within its category\n",
    " - L* ID is the bond's ID within level L* (therefore, L1 ID is the unique id for each bond because it is the highest category, so it is the index)\n",
    " - Very few of the Authorizing Act Date entries are actually in the raw data, they may need imputing from the Authorizing Act string - for now, if we need an \"issuance date\" of the security, we use the \"First Issue Date\" column\n",
    "\n",
    "### BondQuant and BondPrice\n",
    " - By default, the rows are months and the columns are numbers for these dataframes; I find it easier to work with them transposed\n",
    " - Always use `series = series[series.notna()]` to filter NaN values reliably"
   ]
  },
  {
   "cell_type": "markdown",
   "metadata": {},
   "source": [
    "## Works Cited:\n",
    "  In the Shadow of the Slump: The Depression of 1920-1921. (2021, March 18). Berkley Economic Review. https://econreview.studentorg.berkeley.edu/in-the-shadow-of-the-slump-the-depression-of-1920-1921/\n",
    "  \n",
    "  Kang, S. W., & Rockoff, H. (2015). Capitalizing patriotism: the Liberty loans of World War I. Financial History Review, 22(1), 45–78. doi:10.1017/S0968565015000037\n",
    "  \n",
    "  Rockoff, Hugh. (2012). Chapter 5 - World War I. *America’s Economic Way of War: War and the US economy from the Spanish-american war to the first Gulf war.* (pp. 99-154). Cambridge University Press. \n",
    "\n"
   ]
  }
 ],
 "metadata": {
  "colab": {
   "provenance": []
  },
  "kernelspec": {
   "display_name": "Python 3 (ipykernel)",
   "language": "python",
   "name": "python3"
  },
  "language_info": {
   "codemirror_mode": {
    "name": "ipython",
    "version": 3
   },
   "file_extension": ".py",
   "mimetype": "text/x-python",
   "name": "python",
   "nbconvert_exporter": "python",
   "pygments_lexer": "ipython3",
   "version": "3.12.4"
  }
 },
 "nbformat": 4,
 "nbformat_minor": 4
}