{
 "cells": [
  {
   "cell_type": "markdown",
   "metadata": {},
   "source": [
    "# Bond Bio: The Liberty and Victory Loans issued to fund WW1\n",
    "Team members: Elan Wang, Liam Loughead"
   ]
  },
  {
   "cell_type": "code",
   "execution_count": 2,
   "metadata": {
    "id": "2CPZ73SjRYup"
   },
   "outputs": [],
   "source": [
    "import pandas as pd\n",
    "import numpy as np\n",
    "import calendar as cal\n",
    "import matplotlib.pyplot as plt\n",
    "import ipywidgets as widgets\n",
    "import random\n",
    "plt.ion()\n",
    "\n",
    "import matplotlib.patches as mpatches\n",
    "import matplotlib.colors as mcolors\n",
    "import datetime\n",
    "#%matplotlib ipympl"
   ]
  },
  {
   "cell_type": "markdown",
   "metadata": {},
   "source": [
    "## Overview\n",
    "### Questions that will be answered for each bond:\n",
    " - What were the features of the bond?\n",
    " - Why the bond was issued?\n",
    " - How much was authorized and how much was sold?\n",
    " - At what price was the bond originally sold and what was the price history on the secondary market?\n",
    " - When was the bond redeemed?"
   ]
  },
  {
   "cell_type": "code",
   "execution_count": 3,
   "metadata": {
    "id": "Np0HHn_vTOHf"
   },
   "outputs": [],
   "source": [
    "\"\"\" \n",
    "Bondh5 = pd.HDFStore(\"data/BondDF.h5\", mode=\"r\")\n",
    "BondList = Bondh5[\"BondList\"]\n",
    "BondQuant = Bondh5[\"BondQuant\"]\n",
    "BondPrice = Bondh5[\"BondPrice\"]\n",
    "Bondh5.close()\n",
    "\"\"\"\n",
    "\n",
    "BondList = pd.read_csv(\"data/BondList.csv\")\n",
    "BondQuant = pd.read_csv(\"data/BondQuant.csv\") \n",
    "BondPrice = pd.read_csv(\"data/BondPrice.csv\") "
   ]
  },
  {
   "cell_type": "code",
   "execution_count": 4,
   "metadata": {},
   "outputs": [],
   "source": [
    "# Helper functions\n",
    "\n",
    "def get_cf_as_string(row):\n",
    "    \"\"\"\n",
    "    Takes a row from the BondList frame and returns the a string indicating the month which the bond\n",
    "    is scheduled.\n",
    "    \"\"\"\n",
    "  \n",
    "    for i in range(1, 13):\n",
    "        if row[f\"CF{str(i).zfill(2)}\"] > 0: return cal.month_name[i]\n",
    "    if row[\"Ambiguous\"] > 0: return \"Ambiguous\"\n",
    "    return \"N/A\"\n",
    "\n",
    "def is_nan(value):\n",
    "    \"\"\"\n",
    "    Utility to check if a value is nan\n",
    "    \"\"\"\n",
    "    str_value = str(value)\n",
    "    if str_value == \"nan\" or str_value == \"NaT\": return True"
   ]
  },
  {
   "cell_type": "markdown",
   "metadata": {
    "id": "dt-8N88jMVBz"
   },
   "source": [
    "## Liberty & Victory Loans\n",
    "\n",
    " - [This concise article](https://www.federalreservehistory.org/essays/liberty-bonds#footnote1) gives a summary of the bonds\n",
    " - Bonds are conveniently classified under the level three category \"Liberty Loan\"\n",
    " - These bonds were used to fund World War I\n",
    " - The below cell isolates and prints information about the liberty loans from the BondList dataframe\n",
    " - Note: These are all par bonds, meaning their original price is equal to their face value."
   ]
  },
  {
   "cell_type": "code",
   "execution_count": 5,
   "metadata": {
    "colab": {
     "base_uri": "https://localhost:8080/",
     "height": 1000
    },
    "id": "-fliVTWQtVNJ",
    "outputId": "14839728-77e3-41ee-b7d6-72c6a6b24694"
   },
   "outputs": [],
   "source": [
    "#Change the pandas float format when using the str() function - removes extra 0s and makes\n",
    "#the output more readable\n",
    "pd.options.display.float_format = '${:,.0f}'.format\n",
    "\n",
    "#Define the liberty loans sub-dataframe\n",
    "BondList.sort_values(by=[\"First Issue Date\"], ascending=True, inplace=True)\n",
    "liberty_loans = BondList.loc[(BondList['Category L3'] == \"Liberty Loan\")]\n",
    "BondList.iloc[:, 0]\n",
    "\n",
    "#Define a helper function to summarize a bond\n",
    "def summarize_bond(bond_row):\n",
    "  noi = bond_row[\"Treasury's Name Of Issue\"] # noi：\n",
    "  print(f\"Bond #{bond_row['Issue L1 ID']}: {noi}{', issued ' + str(bond_row['First Issue Date']) if not is_nan(bond_row['First Issue Date']) else ''}\")\n",
    "  if is_nan(bond_row[\"Term Of Loan\"]):\n",
    "    print(\"   No further information\")\n",
    "    return bond_row\n",
    "  print(f\"   Term: {bond_row['Term Of Loan']}, Redeemable: {bond_row['Redeemable After Date']}, Payable: {bond_row['Payable Date']}\")\n",
    "  print(f\"   Coupon: {bond_row['Coupon Rate']}, Frequency: {bond_row['Coupons Per Year']}/year, Scheduled Month: {get_cf_as_string(bond_row)}\")\n",
    "  print(\"---------------------------------------------------\")\n",
    "  return bond_row\n",
    "\n",
    "#Uncomment to print a summary of all bonds labeled \"Liberty Loan\"\n",
    "#liberty_loans.apply(summarize_bond, axis=1)\n",
    "#print(\"Done\") #Print Done so the cell output does not include the dataframe snippet"
   ]
  },
  {
   "cell_type": "code",
   "execution_count": 6,
   "metadata": {},
   "outputs": [],
   "source": [
    "#Helper formatting function for large sums of money\n",
    "def big_numbers_format(x, pos):\n",
    "    strx = str(x)\n",
    "    if x >= 1e9:\n",
    "        return f\"{strx[0]}.{strx[1:4]}b\"\n",
    "    if x >= 1e8:\n",
    "        return f\"{strx[:3]}.{strx[3]}m\"\n",
    "    return f\"{strx}\"\n",
    "\n",
    "def big_dollars_format(x, pos):\n",
    "    return f\"${big_numbers_format(x, None)}\"\n",
    "\n",
    "#BondQuant_Transposed is months x bond, as opposed to bond x months\n",
    "BondQuant_Transposed = BondQuant.transpose()\n",
    "#Do the same for BondPrice\n",
    "BondPrice_Transposed = BondPrice.transpose()\n",
    "\n",
    "#define some important dates for context\n",
    "graph_start_ts = pd.Timestamp(\"1917-1-1\") #Starting the graph from here gives it a nice left margin\n",
    "join_ts = datetime.datetime.fromisoformat(\"1917-04-04\")\n",
    "armistice_ts = datetime.datetime.fromisoformat(\"1918-11-11\")\n",
    "depression_begin_ts = datetime.datetime.fromisoformat(\"1920-01-01\")\n",
    "depression_end_ts = datetime.datetime.fromisoformat(\"1921-07-01\")\n",
    "\n",
    "#Helper function to format axes correctly\n",
    "def format_and_annotate_ax(bond_ids, ax, closest_date):\n",
    "    #Sets the right limit to the \"closest\" (to today) date plus 2 months to give it a nice right margin\n",
    "    ax.set_xlim(left=graph_start_ts, right=closest_date + pd.DateOffset(months=2))\n",
    "\n",
    "    ax.legend(labels=[BondList.loc[x][\"Treasury's Name Of Issue\"] for x in bond_ids], bbox_to_anchor=(0.65,-0.2))\n",
    "    ax.get_legend().set_title(\"Color, Bond ID\")\n",
    "\n",
    "    war_patch = mpatches.Patch(fc=\"#ed7784\", label='US time in WW1', alpha=0.65)\n",
    "    ax.axvspan(xmin=join_ts, xmax=armistice_ts, fc=\"#ed7784\", alpha=0.65)\n",
    "    depression_patch = mpatches.Patch(fc=\"#ad2df7\", label='Depression', alpha=0.65)\n",
    "    ax.axvspan(xmin=depression_begin_ts, xmax=depression_end_ts, fc=\"#ad2df7\", alpha=0.65)\n",
    "    twinx = ax.twinx()\n",
    "    twinx.legend(handles=[war_patch, depression_patch], bbox_to_anchor=(1,-0.2), title=\"Events\")\n",
    "    twinx.set_axis_off()\n",
    "    plt.grid(True)"
   ]
  },
  {
   "cell_type": "code",
   "execution_count": 7,
   "metadata": {},
   "outputs": [],
   "source": [
    "#Taking a list of bond IDs, create a graph of their quantities in the Public Holdings category\n",
    "#Creates a new figure for each graph\n",
    "def graph_public_for_bqs(bond_ids, axes=None, title=\"\"):\n",
    "    plt.figure(num=random.randint(0, 10000))\n",
    "    current_ax = plt.gca()\n",
    "    closer_date = graph_start_ts\n",
    "    for id in bond_ids:\n",
    "        series = BondQuant_Transposed.loc[(id, 'Public Holdings')]\n",
    "        series = series[series.notna()]\n",
    "        ax = series.plot.line(ax=current_ax, title=title,\n",
    "                              legend=True, sharex=True, sharey=True, xlabel=\"Time\",\n",
    "                              ylabel=\"Quantity of Bonds\", **{'marker': '.'})\n",
    "        if current_ax == None: current_ax = ax\n",
    "        closer_date = series.index[len(series)-1] if series.index[len(series)-1] > closer_date else closer_date\n",
    "    ax.yaxis.set_major_formatter(big_numbers_format)\n",
    "    format_and_annotate_ax(bond_ids, ax, closer_date)\n",
    "    plt.gcf().tight_layout()\n",
    "    plt.show()\n",
    "    current_ax = None"
   ]
  },
  {
   "cell_type": "code",
   "execution_count": 8,
   "metadata": {},
   "outputs": [],
   "source": [
    "#Taking a list of bond IDs, create a graph of their average price on the secondary market.\n",
    "#Creates a new figure for each graph\n",
    "def graph_avg_price(bond_ids, axes=None, title=\"\"):\n",
    "    plt.figure(num=random.randint(0, 10000))\n",
    "    current_ax = plt.gca()\n",
    "    closer_date = graph_start_ts\n",
    "    for id in bond_ids:\n",
    "        series = BondPrice_Transposed.loc[(id, 'Average')]\n",
    "        series = series[series.notna()]\n",
    "        if len(series) < 1:\n",
    "            print(f\"Warning: bond {liberty_loans.loc[id][\"Treasury's Name Of Issue\"]} could not be graphed, no prices are recorded\")\n",
    "            continue\n",
    "        ax = series.plot.line(ax=current_ax, title=title,\n",
    "                              legend=True, sharex=True, sharey=True, xlabel=\"Time\",\n",
    "                              ylabel=\"Price of Bonds\", **{'marker': '.'})\n",
    "        if current_ax == None: current_ax = ax\n",
    "        closer_date = series.index[len(series)-1] if series.index[len(series)-1] > closer_date else closer_date\n",
    "    ax.yaxis.set_major_formatter(big_dollars_format)\n",
    "    format_and_annotate_ax(bond_ids, ax, closer_date)\n",
    "    plt.gcf().tight_layout()\n",
    "    plt.show()\n",
    "    current_ax = None"
   ]
  },
  {
   "cell_type": "markdown",
   "metadata": {},
   "source": [
    "## 1st Liberty Loan of 1917\n",
    "This loan was the first bond used to fund World War I. It also featured the option to convert it so that it would have a higher coupon rate. Generally, convertible bonds are normally corporate bonds. However, in this case, when a bond is **convertible**, it is able to be converted into an issue with a higher coupon rate (Kang, 2015). Thus, it was converted to having a coupon rate of 4% once and 4.25% twice in 1918. This loan had 4 million subscribers, and offered 2 billion dollars while 3.035 billion dollars were subscribed, but only 2 billion dollars were accepted (Rockoff, 2012). An average of 759 dollars were subscribed (Kang, 2015). "
   ]
  },
  {
   "cell_type": "code",
   "execution_count": 9,
   "metadata": {},
   "outputs": [
    {
     "name": "stdout",
     "output_type": "stream",
     "text": [
      "Bond #162: 1st Liberty Loan of 1917 (3.5%), issued 1917-06-30\n",
      "   Term: 30 years, Redeemable: 1932-06-15, Payable: 1947-06-15\n",
      "   Coupon: 3.5, Frequency: 2.0/year, Scheduled Month: June\n",
      "---------------------------------------------------\n",
      "Bond #163: 1st Liberty Loan Converted to 4%, issued 1918-11-30\n",
      "   Term: 30 years, Redeemable: 1932-06-15, Payable: 1947-06-15\n",
      "   Coupon: 4.0, Frequency: 2.0/year, Scheduled Month: June\n",
      "---------------------------------------------------\n",
      "Bond #164: 1st Liberty Loan Converted to 4.25%, issued 1918-11-30\n",
      "   Term: 30 years, Redeemable: 1932-06-15, Payable: 1947-06-15\n",
      "   Coupon: 4.25, Frequency: 2.0/year, Scheduled Month: June\n",
      "---------------------------------------------------\n",
      "Bond #165: 1st Liberty Loan Second Converted to 4.25%, issued 1918-10-24\n",
      "   Term: 30 years, Redeemable: 1932-06-15, Payable: 1947-06-15\n",
      "   Coupon: 4.25, Frequency: 2.0/year, Scheduled Month: June\n",
      "---------------------------------------------------\n"
     ]
    },
    {
     "ename": "KeyError",
     "evalue": "'Public Holdings'",
     "output_type": "error",
     "traceback": [
      "\u001b[0;31m---------------------------------------------------------------------------\u001b[0m",
      "\u001b[0;31mKeyError\u001b[0m                                  Traceback (most recent call last)",
      "Cell \u001b[0;32mIn[9], line 12\u001b[0m\n\u001b[1;32m      8\u001b[0m     \u001b[38;5;28;01mreturn\u001b[39;00m bond_row\n\u001b[1;32m     10\u001b[0m liberty_loans\u001b[38;5;241m.\u001b[39msort_index()\u001b[38;5;241m.\u001b[39mapply(summarize_only_first, axis\u001b[38;5;241m=\u001b[39m\u001b[38;5;241m1\u001b[39m)\n\u001b[0;32m---> 12\u001b[0m \u001b[43mgraph_public_for_bqs\u001b[49m\u001b[43m(\u001b[49m\u001b[43mbond_ids\u001b[49m\u001b[43m,\u001b[49m\u001b[43m \u001b[49m\u001b[43mtitle\u001b[49m\u001b[38;5;241;43m=\u001b[39;49m\u001b[38;5;124;43m\"\u001b[39;49m\u001b[38;5;124;43mFirst Liberty Loan(s) Public Holdings\u001b[39;49m\u001b[38;5;124;43m\"\u001b[39;49m\u001b[43m)\u001b[49m\n\u001b[1;32m     13\u001b[0m \u001b[38;5;28mprint\u001b[39m(\u001b[38;5;124m\"\u001b[39m\u001b[38;5;124mDone\u001b[39m\u001b[38;5;124m\"\u001b[39m)\n\u001b[1;32m     14\u001b[0m graph_avg_price(bond_ids, title\u001b[38;5;241m=\u001b[39m\u001b[38;5;124m\"\u001b[39m\u001b[38;5;124mFirst Liberty Loan(s) Secondary Market Price\u001b[39m\u001b[38;5;124m\"\u001b[39m)\n",
      "Cell \u001b[0;32mIn[7], line 8\u001b[0m, in \u001b[0;36mgraph_public_for_bqs\u001b[0;34m(bond_ids, axes, title)\u001b[0m\n\u001b[1;32m      6\u001b[0m closer_date \u001b[38;5;241m=\u001b[39m graph_start_ts\n\u001b[1;32m      7\u001b[0m \u001b[38;5;28;01mfor\u001b[39;00m \u001b[38;5;28mid\u001b[39m \u001b[38;5;129;01min\u001b[39;00m bond_ids:\n\u001b[0;32m----> 8\u001b[0m     series \u001b[38;5;241m=\u001b[39m \u001b[43mBondQuant_Transposed\u001b[49m\u001b[38;5;241;43m.\u001b[39;49m\u001b[43mloc\u001b[49m\u001b[43m[\u001b[49m\u001b[43m(\u001b[49m\u001b[38;5;28;43mid\u001b[39;49m\u001b[43m,\u001b[49m\u001b[43m \u001b[49m\u001b[38;5;124;43m'\u001b[39;49m\u001b[38;5;124;43mPublic Holdings\u001b[39;49m\u001b[38;5;124;43m'\u001b[39;49m\u001b[43m)\u001b[49m\u001b[43m]\u001b[49m\n\u001b[1;32m      9\u001b[0m     series \u001b[38;5;241m=\u001b[39m series[series\u001b[38;5;241m.\u001b[39mnotna()]\n\u001b[1;32m     10\u001b[0m     ax \u001b[38;5;241m=\u001b[39m series\u001b[38;5;241m.\u001b[39mplot\u001b[38;5;241m.\u001b[39mline(ax\u001b[38;5;241m=\u001b[39mcurrent_ax, title\u001b[38;5;241m=\u001b[39mtitle,\n\u001b[1;32m     11\u001b[0m                           legend\u001b[38;5;241m=\u001b[39m\u001b[38;5;28;01mTrue\u001b[39;00m, sharex\u001b[38;5;241m=\u001b[39m\u001b[38;5;28;01mTrue\u001b[39;00m, sharey\u001b[38;5;241m=\u001b[39m\u001b[38;5;28;01mTrue\u001b[39;00m, xlabel\u001b[38;5;241m=\u001b[39m\u001b[38;5;124m\"\u001b[39m\u001b[38;5;124mTime\u001b[39m\u001b[38;5;124m\"\u001b[39m,\n\u001b[1;32m     12\u001b[0m                           ylabel\u001b[38;5;241m=\u001b[39m\u001b[38;5;124m\"\u001b[39m\u001b[38;5;124mQuantity of Bonds\u001b[39m\u001b[38;5;124m\"\u001b[39m, \u001b[38;5;241m*\u001b[39m\u001b[38;5;241m*\u001b[39m{\u001b[38;5;124m'\u001b[39m\u001b[38;5;124mmarker\u001b[39m\u001b[38;5;124m'\u001b[39m: \u001b[38;5;124m'\u001b[39m\u001b[38;5;124m.\u001b[39m\u001b[38;5;124m'\u001b[39m})\n",
      "File \u001b[0;32m/Library/Frameworks/Python.framework/Versions/3.12/lib/python3.12/site-packages/pandas/core/indexing.py:1183\u001b[0m, in \u001b[0;36m_LocationIndexer.__getitem__\u001b[0;34m(self, key)\u001b[0m\n\u001b[1;32m   1181\u001b[0m     key \u001b[38;5;241m=\u001b[39m \u001b[38;5;28mtuple\u001b[39m(com\u001b[38;5;241m.\u001b[39mapply_if_callable(x, \u001b[38;5;28mself\u001b[39m\u001b[38;5;241m.\u001b[39mobj) \u001b[38;5;28;01mfor\u001b[39;00m x \u001b[38;5;129;01min\u001b[39;00m key)\n\u001b[1;32m   1182\u001b[0m     \u001b[38;5;28;01mif\u001b[39;00m \u001b[38;5;28mself\u001b[39m\u001b[38;5;241m.\u001b[39m_is_scalar_access(key):\n\u001b[0;32m-> 1183\u001b[0m         \u001b[38;5;28;01mreturn\u001b[39;00m \u001b[38;5;28;43mself\u001b[39;49m\u001b[38;5;241;43m.\u001b[39;49m\u001b[43mobj\u001b[49m\u001b[38;5;241;43m.\u001b[39;49m\u001b[43m_get_value\u001b[49m\u001b[43m(\u001b[49m\u001b[38;5;241;43m*\u001b[39;49m\u001b[43mkey\u001b[49m\u001b[43m,\u001b[49m\u001b[43m \u001b[49m\u001b[43mtakeable\u001b[49m\u001b[38;5;241;43m=\u001b[39;49m\u001b[38;5;28;43mself\u001b[39;49m\u001b[38;5;241;43m.\u001b[39;49m\u001b[43m_takeable\u001b[49m\u001b[43m)\u001b[49m\n\u001b[1;32m   1184\u001b[0m     \u001b[38;5;28;01mreturn\u001b[39;00m \u001b[38;5;28mself\u001b[39m\u001b[38;5;241m.\u001b[39m_getitem_tuple(key)\n\u001b[1;32m   1185\u001b[0m \u001b[38;5;28;01melse\u001b[39;00m:\n\u001b[1;32m   1186\u001b[0m     \u001b[38;5;66;03m# we by definition only have the 0th axis\u001b[39;00m\n",
      "File \u001b[0;32m/Library/Frameworks/Python.framework/Versions/3.12/lib/python3.12/site-packages/pandas/core/frame.py:4214\u001b[0m, in \u001b[0;36mDataFrame._get_value\u001b[0;34m(self, index, col, takeable)\u001b[0m\n\u001b[1;32m   4211\u001b[0m     series \u001b[38;5;241m=\u001b[39m \u001b[38;5;28mself\u001b[39m\u001b[38;5;241m.\u001b[39m_ixs(col, axis\u001b[38;5;241m=\u001b[39m\u001b[38;5;241m1\u001b[39m)\n\u001b[1;32m   4212\u001b[0m     \u001b[38;5;28;01mreturn\u001b[39;00m series\u001b[38;5;241m.\u001b[39m_values[index]\n\u001b[0;32m-> 4214\u001b[0m series \u001b[38;5;241m=\u001b[39m \u001b[38;5;28;43mself\u001b[39;49m\u001b[38;5;241;43m.\u001b[39;49m\u001b[43m_get_item_cache\u001b[49m\u001b[43m(\u001b[49m\u001b[43mcol\u001b[49m\u001b[43m)\u001b[49m\n\u001b[1;32m   4215\u001b[0m engine \u001b[38;5;241m=\u001b[39m \u001b[38;5;28mself\u001b[39m\u001b[38;5;241m.\u001b[39mindex\u001b[38;5;241m.\u001b[39m_engine\n\u001b[1;32m   4217\u001b[0m \u001b[38;5;28;01mif\u001b[39;00m \u001b[38;5;129;01mnot\u001b[39;00m \u001b[38;5;28misinstance\u001b[39m(\u001b[38;5;28mself\u001b[39m\u001b[38;5;241m.\u001b[39mindex, MultiIndex):\n\u001b[1;32m   4218\u001b[0m     \u001b[38;5;66;03m# CategoricalIndex: Trying to use the engine fastpath may give incorrect\u001b[39;00m\n\u001b[1;32m   4219\u001b[0m     \u001b[38;5;66;03m#  results if our categories are integers that dont match our codes\u001b[39;00m\n\u001b[1;32m   4220\u001b[0m     \u001b[38;5;66;03m# IntervalIndex: IntervalTree has no get_loc\u001b[39;00m\n",
      "File \u001b[0;32m/Library/Frameworks/Python.framework/Versions/3.12/lib/python3.12/site-packages/pandas/core/frame.py:4638\u001b[0m, in \u001b[0;36mDataFrame._get_item_cache\u001b[0;34m(self, item)\u001b[0m\n\u001b[1;32m   4633\u001b[0m res \u001b[38;5;241m=\u001b[39m cache\u001b[38;5;241m.\u001b[39mget(item)\n\u001b[1;32m   4634\u001b[0m \u001b[38;5;28;01mif\u001b[39;00m res \u001b[38;5;129;01mis\u001b[39;00m \u001b[38;5;28;01mNone\u001b[39;00m:\n\u001b[1;32m   4635\u001b[0m     \u001b[38;5;66;03m# All places that call _get_item_cache have unique columns,\u001b[39;00m\n\u001b[1;32m   4636\u001b[0m     \u001b[38;5;66;03m#  pending resolution of GH#33047\u001b[39;00m\n\u001b[0;32m-> 4638\u001b[0m     loc \u001b[38;5;241m=\u001b[39m \u001b[38;5;28;43mself\u001b[39;49m\u001b[38;5;241;43m.\u001b[39;49m\u001b[43mcolumns\u001b[49m\u001b[38;5;241;43m.\u001b[39;49m\u001b[43mget_loc\u001b[49m\u001b[43m(\u001b[49m\u001b[43mitem\u001b[49m\u001b[43m)\u001b[49m\n\u001b[1;32m   4639\u001b[0m     res \u001b[38;5;241m=\u001b[39m \u001b[38;5;28mself\u001b[39m\u001b[38;5;241m.\u001b[39m_ixs(loc, axis\u001b[38;5;241m=\u001b[39m\u001b[38;5;241m1\u001b[39m)\n\u001b[1;32m   4641\u001b[0m     cache[item] \u001b[38;5;241m=\u001b[39m res\n",
      "File \u001b[0;32m/Library/Frameworks/Python.framework/Versions/3.12/lib/python3.12/site-packages/pandas/core/indexes/range.py:417\u001b[0m, in \u001b[0;36mRangeIndex.get_loc\u001b[0;34m(self, key)\u001b[0m\n\u001b[1;32m    415\u001b[0m         \u001b[38;5;28;01mraise\u001b[39;00m \u001b[38;5;167;01mKeyError\u001b[39;00m(key) \u001b[38;5;28;01mfrom\u001b[39;00m \u001b[38;5;21;01merr\u001b[39;00m\n\u001b[1;32m    416\u001b[0m \u001b[38;5;28;01mif\u001b[39;00m \u001b[38;5;28misinstance\u001b[39m(key, Hashable):\n\u001b[0;32m--> 417\u001b[0m     \u001b[38;5;28;01mraise\u001b[39;00m \u001b[38;5;167;01mKeyError\u001b[39;00m(key)\n\u001b[1;32m    418\u001b[0m \u001b[38;5;28mself\u001b[39m\u001b[38;5;241m.\u001b[39m_check_indexing_error(key)\n\u001b[1;32m    419\u001b[0m \u001b[38;5;28;01mraise\u001b[39;00m \u001b[38;5;167;01mKeyError\u001b[39;00m(key)\n",
      "\u001b[0;31mKeyError\u001b[0m: 'Public Holdings'"
     ]
    },
    {
     "data": {
      "application/vnd.jupyter.widget-view+json": {
       "model_id": "d199459058f04609889766247e25f222",
       "version_major": 2,
       "version_minor": 0
      },
      "image/png": "[encoded data removed]",
      "text/html": [
       "\n",
       "            <div style=\"display: inline-block;\">\n",
       "                <div class=\"jupyter-widgets widget-label\" style=\"text-align: center;\">\n",
       "                    Figure\n",
       "                </div>\n",
       "                <img src='data:image/png;base64,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' width=640.0/>\n",
       "            </div>\n",
       "        "
      ],
      "text/plain": [
       "Canvas(toolbar=Toolbar(toolitems=[('Home', 'Reset original view', 'home', 'home'), ('Back', 'Back to previous …"
      ]
     },
     "metadata": {},
     "output_type": "display_data"
    }
   ],
   "source": [
    "%matplotlib ipympl\n",
    "bond_ids = []\n",
    "def summarize_only_first(bond_row):\n",
    "    noi = bond_row[\"Treasury's Name Of Issue\"]\n",
    "    if \"1st Liberty Loan\" in noi:\n",
    "        bond_ids.append(bond_row[\"Issue L1 ID\"] + 20000)\n",
    "        return summarize_bond(bond_row)\n",
    "    return bond_row\n",
    "\n",
    "liberty_loans.sort_index().apply(summarize_only_first, axis=1)\n",
    "\n",
    "graph_public_for_bqs(bond_ids, title=\"First Liberty Loan(s) Public Holdings\")\n",
    "print(\"Done\")\n",
    "graph_avg_price(bond_ids, title=\"First Liberty Loan(s) Secondary Market Price\")\n",
    "print(\"Done\")"
   ]
  },
  {
   "cell_type": "markdown",
   "metadata": {},
   "source": [
    "Here, it is shown that in 1917, the quantity outstanding was at 1,466,335,094, before increasing to nearly 2,000,000,000 and staying around that price before decreasing to around 1,400,000,000 in 1919, staying at around that amount before suddenly decreasing to around 189,928,800. \n",
    "The increase at the beginning can be attributed to many liberty bonds being sold at that time to finance WWI. As this resulted in more citizens and households deciding to own financial assets, the decrease soon after this in late 1919 can be attributed to the increase in discount rates used to curb the increase of bond prices, resulting in depreciation of bond prices. By 1935, most of the debt had already been paid back. "
   ]
  },
  {
   "cell_type": "markdown",
   "metadata": {},
   "source": [
    "## 2nd Liberty Loan\n",
    "This loan was the second bond used to fund World War I. Much like the 1st bond, it had a convertible option; however, unlike the 1st loan, it could only be converted one time, (Kang, 2015). Thus, it was converted to having a coupon rate of 4.25% once in 1918. This loan had 9.4 Million subscribers, and offered 3 billion dollars while 4.618 billion dollars were subscribed, but only 3.809 billion dollars were accepted (Rockoff, 2012). An average of 491 dollars were subscribed (Kang, 2015)."
   ]
  },
  {
   "cell_type": "code",
   "execution_count": null,
   "metadata": {},
   "outputs": [],
   "source": [
    "%matplotlib ipympl\n",
    "bond_ids = []\n",
    "def summarize_only_first(bond_row):\n",
    "    noi = bond_row[\"Treasury's Name Of Issue\"]\n",
    "    if \"2nd Liberty Loan\" in noi:\n",
    "        bond_ids.append(bond_row[\"Issue L1 ID\"] + 20000)\n",
    "        return summarize_bond(bond_row)\n",
    "    return bond_row\n",
    "\n",
    "liberty_loans.sort_index().apply(summarize_only_first, axis=1)\n",
    "\n",
    "graph_public_for_bqs(bond_ids, title=\"Second Liberty Loan(s) Public Holdings\")\n",
    "graph_avg_price(bond_ids, title=\"Second Liberty Loan(s) Secondary Market Price\")"
   ]
  },
  {
   "cell_type": "markdown",
   "metadata": {},
   "source": [
    "## 3rd Liberty Loan\n",
    "This loan was the third loan used to fund World War I. Unlike the first two loans, it didn't have a convertible option (Kang, 2015). This loan had 18.377 million subscribers, and offered 3 billion dollars while 4.177 billion dollars were subscribed, and all 4.177 billion dollars were accepted (Rockoff, 2012). An average of 227 dollars were subscribed (Kang, 2015). "
   ]
  },
  {
   "cell_type": "code",
   "execution_count": null,
   "metadata": {},
   "outputs": [],
   "source": [
    "%matplotlib ipympl\n",
    "bond_ids = []\n",
    "def summarize_only_first(bond_row):\n",
    "    noi = bond_row[\"Treasury's Name Of Issue\"]\n",
    "    if \"3rd Liberty Loan\" in noi:\n",
    "        bond_ids.append(bond_row[\"Issue L1 ID\"] + 20000)\n",
    "        return summarize_bond(bond_row)\n",
    "    return bond_row\n",
    "\n",
    "liberty_loans.sort_index().apply(summarize_only_first, axis=1)\n",
    "\n",
    "graph_public_for_bqs(bond_ids, title=\"Third Liberty Loan(s) Public Holdings\")\n",
    "graph_avg_price(bond_ids, title=\"Third Liberty Loan(s) Secondary Market Price\")"
   ]
  },
  {
   "cell_type": "markdown",
   "metadata": {},
   "source": [
    "## 4th Liberty Loan\n",
    "This loan was the fourth loan used to fund World War I. Like the third loan, it didn't have a convertible option (Kang, 2015). This loan had 22.778 Million subscribers, and offered 6 billion dollars while 6.959 billion dollars were subscribed, and all 6.959 billion dollars were accepted (Rockoff, 2012). An average of 306 dollars were subscribed (Kang, 2015). "
   ]
  },
  {
   "cell_type": "code",
   "execution_count": null,
   "metadata": {},
   "outputs": [],
   "source": [
    "%matplotlib ipympl\n",
    "bond_ids = []\n",
    "def summarize_only_first(bond_row):\n",
    "    noi = bond_row[\"Treasury's Name Of Issue\"]\n",
    "    if \"4th Liberty Loan\" in noi:\n",
    "        bond_ids.append(bond_row[\"Issue L1 ID\"] + 20000)\n",
    "        return summarize_bond(bond_row)\n",
    "    return bond_row\n",
    "\n",
    "liberty_loans.sort_index().apply(summarize_only_first, axis=1)\n",
    "\n",
    "graph_public_for_bqs(bond_ids, title=\"Fourth Liberty Loan(s) Public Holdings\")\n",
    "graph_avg_price(bond_ids, title=\"Fourth Liberty Loan(s) Secondary Market Price\")"
   ]
  },
  {
   "cell_type": "markdown",
   "metadata": {},
   "source": [
    "## Victory Loans\n",
    "These were victory loans used after WWI. This differs from the other bonds as they were issued after WWI rather than during it. Like the third and fourth loans, they didn't have convertible options (Kang, 2015). These loans had 11.803 million subscribers, and offered 4.5 billion dollars while 5.25 billion dollars were subscribed, and only 4.5 billion dollars were accepted (Rockoff, 2012). An average of 445 dollars were subscribed (Kang, 2015). "
   ]
  },
  {
   "cell_type": "code",
   "execution_count": null,
   "metadata": {},
   "outputs": [],
   "source": [
    "%matplotlib ipympl\n",
    "bond_ids = []\n",
    "def summarize_only_first(bond_row):\n",
    "    noi = bond_row[\"Treasury's Name Of Issue\"]\n",
    "    if \"Victory Liberty Loan\" in noi or \"Vic Lib Loan\" in noi:\n",
    "        bond_ids.append(bond_row[\"Issue L1 ID\"] + 20000)\n",
    "        return summarize_bond(bond_row)\n",
    "    return bond_row\n",
    "\n",
    "liberty_loans.sort_index().apply(summarize_only_first, axis=1)\n",
    "\n",
    "graph_public_for_bqs(bond_ids, title=\"Victory Loan(s) Public Holdings\")\n",
    "graph_avg_price(bond_ids, title=\"Victory Loan(s) Secondary Market Price\")"
   ]
  },
  {
   "cell_type": "markdown",
   "metadata": {},
   "source": [
    "## Price Drop in 1920-1921\n",
    "As seen with the Secondary Market Price graphs of the Liberty and Victory Loans, there was a big drop in bond prices from 1920-1921 for all of these loans. This can be attributed to the Depression of 1920-1921. During this period, unemployment rates rose to 12%, and prices saw a 15% rise (\"In,\" 2021). Overall, the economy suffered a large recession. Consequently, the US government lost a significant amount of credibility, meaning higher yields and lower prices for the bonds were demanded. However, the US quickly recovered from this in 1922, meaning the government was able to gain credit back. Thus, yield demand wasn't as high, and prices as a result rose back up again. \n",
    "\n",
    "### Events potentially leading to price drop:\n",
    "Initially, when the US came out of WWI, the economy was expanding largely: unemployment decreased to 1.4% while productivity & inflation both increased (\"In,\" 2021). However, the Federal Reserve, in order to finance military operations, was trying to keep interest rates low (as this would decrease coupon rates), thus \"inflation increased unchecked, to the growing consternation of policy advisors\" (\"In,\" 2021). Due to reforms initiated to decrease inflation, which included a government spending cut by 75% and an increase of the discount rate, a recession ensued (\"In,\" 2021). "
   ]
  },
  {
   "cell_type": "code",
   "execution_count": null,
   "metadata": {},
   "outputs": [],
   "source": [
    "#Interactive graph: select a bond by its name, and select the checkboxes to show\n",
    "#their price and/or quantity history\n",
    "#Use check marks to show/unshow wartime and 1920-21 depression patches (red and purple respectively)\n",
    "%matplotlib ipympl\n",
    "\n",
    "plt.ioff()\n",
    "\n",
    "war_patch = mpatches.Patch(fc=\"#ed7784\", label='US time in WW1', alpha=0.65)\n",
    "depression_patch = mpatches.Patch(fc=\"#ad2df7\", label='Depression', alpha=0.65)\n",
    "possible_colors = [\"aqua\", \"aquamarine\", \"black\", \"blue\", \"brown\", \"crimson\", \"darkblue\", \"darkgreen\", \"green\", \"indigo\", \"maroon\", \"navy\", \"orangered\", \"purple\", \"teal\"]\n",
    "\n",
    "def bond_name_to_id(name):\n",
    "    return liberty_loans.loc[liberty_loans[\"Treasury's Name Of Issue\"] == name].index[0]\n",
    "\n",
    "def id_to_bond_name(id):\n",
    "    return liberty_loans.loc[id][\"Treasury's Name Of Issue\"]\n",
    "\n",
    "fig = plt.figure(num=random.randint(0, 10000))\n",
    "fig.canvas.header_visible = False\n",
    "ax = plt.gca()\n",
    "ax.yaxis.set_major_formatter(big_numbers_format)\n",
    "ax.set_xlabel(\"Time\")\n",
    "ax.set_ylabel(\"Quantity\")\n",
    "twinx = ax.twinx()\n",
    "twinx.legend(handles=[war_patch, depression_patch], bbox_to_anchor=(1,-0.2), title=\"Events\")\n",
    "twinx.yaxis.set_major_formatter(big_dollars_format)\n",
    "twinx.set_ylabel(\"Price\")\n",
    "plt.grid(True)\n",
    "\n",
    "initial_options = [id_to_bond_name(x) for x in liberty_loans.index]\n",
    "name_dropdown = widgets.Dropdown(\n",
    "    options=initial_options,\n",
    "    value=initial_options[0],\n",
    "    description=\"Name:\")\n",
    "show_quant_checkbox = widgets.Checkbox(value=False, description=\"Show Quantity\")\n",
    "show_price_checkbox = widgets.Checkbox(value=False, description=\"Show Price\")\n",
    "show_wartime_checkbox = widgets.Checkbox(value=True, description=\"Show Wartime\")\n",
    "show_wartime_checkbox.style\n",
    "show_depression_checkbox = widgets.Checkbox(value=True, description=\"Show Depression\")\n",
    "legend_textbox = widgets.HTML()\n",
    "\n",
    "current_depression_polygon = None\n",
    "current_war_polygon = None\n",
    "\n",
    "shown_price_names_and_lines = {}\n",
    "shown_quant_names_and_lines = {}\n",
    "used_colors = []\n",
    "\n",
    "using_dropdown_lock = False\n",
    "\n",
    "#Gets a random color that is not already being used\n",
    "def _get_available_color():\n",
    "    available = []\n",
    "    for color in possible_colors:\n",
    "        if color not in used_colors: available.append(color)\n",
    "    color = random.choice(available)\n",
    "    used_colors.append(color)\n",
    "    return color\n",
    "\n",
    "#Plots a series, handles NaN values\n",
    "def _plot_line(ax, label, series, marker):\n",
    "    series = series[series.notna()]\n",
    "    random_color = _get_available_color()\n",
    "    line2d, = ax.plot(\n",
    "            [series.index[x].to_pydatetime() for x in range(len(series.index))],\n",
    "            [series.loc[:][x] for x in range(len(series.index))], label=label, marker=marker, color=random_color)\n",
    "    return line2d\n",
    "\n",
    "#The legend is an HTML element with a <table> in it\n",
    "def _update_legend():\n",
    "    global legend_textbox\n",
    "    strs = []\n",
    "    strs.append(\"<table><tbody>\")\n",
    "    strs.append(\"<tr><th>Bond name</th><th>Color</th></tr>\")\n",
    "    lines = list(shown_price_names_and_lines.values()) + list(shown_quant_names_and_lines.values())\n",
    "    for line2d in lines:\n",
    "        strs.append(f'<tr style=\"color: {line2d.get_color()}\"><td>{line2d.get_label()}</td><td>{line2d.get_color()}</td></tr>')\n",
    "    strs.append(\"</table></tbody>\")\n",
    "    legend_textbox.value = \"\".join(strs)\n",
    "\n",
    "#Plot a bond, quantity or price\n",
    "def add_bond(bond_name, quant):\n",
    "    global fig, ax, twinx\n",
    "    bond_id = bond_name_to_id(bond_name)\n",
    "    if quant:\n",
    "        series = BondQuant_Transposed.loc[(bond_id, 'Public Holdings')]\n",
    "    else:\n",
    "        series = BondPrice_Transposed.loc[(bond_id, 'Average')]\n",
    "    line2d = _plot_line((ax if quant else twinx), bond_name + (\" (Quantity)\" if quant else \" (Price)\"), series, marker=\"^\" if quant else \".\")\n",
    "    (shown_quant_names_and_lines if quant else shown_price_names_and_lines)[bond_name] = line2d\n",
    "    fig.canvas.draw()\n",
    "    fig.canvas.flush_events()\n",
    "\n",
    "#Remove the plot of a bond, quantity or price\n",
    "def remove_bond(bond_name, quant):\n",
    "    global fig\n",
    "    names_and_lines = shown_quant_names_and_lines if quant else shown_price_names_and_lines\n",
    "    for name, line in names_and_lines.items():\n",
    "        if line.get_label() == bond_name:\n",
    "            used_colors.remove(line.get_color())\n",
    "            line.remove()\n",
    "            ref2 = names_and_lines.pop(name)\n",
    "            del ref2\n",
    "            del line\n",
    "            break\n",
    "    fig.canvas.draw()\n",
    "    fig.canvas.flush_events()\n",
    "\n",
    "def bond_name_dropdown_handler(unused_arg):\n",
    "    global using_dropdown_lock\n",
    "    using_dropdown_lock = True\n",
    "    name = name_dropdown.value\n",
    "    show_price_checkbox.value = name in shown_price_names_and_lines\n",
    "    show_quant_checkbox.value = name in shown_quant_names_and_lines\n",
    "    using_dropdown_lock = False\n",
    "\n",
    "def quant_checkbox_handler(unused_arg):\n",
    "    if using_dropdown_lock: return\n",
    "    name = name_dropdown.value\n",
    "    if show_quant_checkbox.value: add_bond(name, True)\n",
    "    else: remove_bond(name, True)\n",
    "    _update_legend()\n",
    "\n",
    "def price_checkbox_handler(unused_arg):\n",
    "    if using_dropdown_lock: return\n",
    "    name = name_dropdown.value\n",
    "    if show_price_checkbox.value: add_bond(name, False)\n",
    "    else: remove_bond(name, False)\n",
    "    _update_legend()\n",
    "\n",
    "def wartime_checkbox_handler(unused_arg):\n",
    "    global current_war_polygon\n",
    "    if current_war_polygon == None:\n",
    "        current_war_polygon = ax.axvspan(xmin=join_ts, xmax=armistice_ts, fc=\"#ed7784\", alpha=0.65)\n",
    "    else:\n",
    "        current_war_polygon.remove()\n",
    "        current_war_polygon = None\n",
    "    fig.canvas.draw()\n",
    "    fig.canvas.flush_events()\n",
    "\n",
    "def depression_checkbox_handler(unused_arg):\n",
    "    global current_depression_polygon\n",
    "    if current_depression_polygon == None:\n",
    "        current_depression_polygon = ax.axvspan(xmin=depression_begin_ts, xmax=depression_end_ts, fc=\"#ad2df7\", alpha=0.65)\n",
    "    else:\n",
    "        current_depression_polygon.remove()\n",
    "        current_depression_polygon = None\n",
    "    fig.canvas.draw()\n",
    "    fig.canvas.flush_events()\n",
    "\n",
    "name_dropdown.observe(bond_name_dropdown_handler)\n",
    "show_quant_checkbox.observe(quant_checkbox_handler)\n",
    "show_price_checkbox.observe(price_checkbox_handler)\n",
    "show_wartime_checkbox.observe(wartime_checkbox_handler)\n",
    "show_depression_checkbox.observe(depression_checkbox_handler)\n",
    "wartime_checkbox_handler(None)\n",
    "depression_checkbox_handler(None)\n",
    "app = widgets.AppLayout(\n",
    "    header=widgets.HBox([name_dropdown, show_quant_checkbox, show_price_checkbox]),\n",
    "    center=widgets.HBox([fig.canvas, legend_textbox]),\n",
    "    footer=widgets.HBox([show_wartime_checkbox, show_depression_checkbox]),\n",
    "    merge=True,\n",
    "    pane_heights=[\"30px\",5,\"30px\"]\n",
    ")\n",
    "app"
   ]
  },
  {
   "cell_type": "markdown",
   "metadata": {},
   "source": [
    "# Supplementary Materials\n",
    "\n",
    "### Figures\n",
    "Each bond has one cell dedicated to it. This cell outputs three items: a worded summary of the features of each bond, a graph of its quantity over time, and a graph of its price on the secondary market over time. Note that many bonds have differing options for interest rates (the convertible bonds), which is why most worded summaries and figures will show different bond entries for the same bond name."
   ]
  },
  {
   "cell_type": "markdown",
   "metadata": {},
   "source": [
    "## Dataframe format notes\n",
    " - A PDF ReadMe for the dataframe is available on github [here](https://github.com/jepayne/US-Federal-Debt-Public/blob/master/Industrial-Suite/Documentation/ReadMe_Pub_20180910.pdf)\n",
    " - The order in which the categories are listed is not necessarily the same; some are switched to make the list read more logically\n",
    "\n",
    "### BondList\n",
    " - Import id is not used\n",
    " - Category L* describes the category in level L*\n",
    " - Category L* ID is the numeric ID of the above\n",
    " - Issue IDs are the numeric ID of a bond within its category\n",
    " - L* ID is the bond's ID within level L* (therefore, L1 ID is the unique id for each bond because it is the highest category, so it is the index)\n",
    " - Very few of the Authorizing Act Date entries are actually in the raw data, they may need imputing from the Authorizing Act string - for now, if we need an \"issuance date\" of the security, we use the \"First Issue Date\" column\n",
    "\n",
    "### BondQuant and BondPrice\n",
    " - By default, the rows are months and the columns are numbers for these dataframes; I find it easier to work with them transposed\n",
    " - Always use `series = series[series.notna()]` to filter NaN values reliably"
   ]
  },
  {
   "cell_type": "markdown",
   "metadata": {},
   "source": [
    "## Works Cited:\n",
    "  In the Shadow of the Slump: The Depression of 1920-1921. (2021, March 18). Berkley Economic Review. https://econreview.studentorg.berkeley.edu/in-the-shadow-of-the-slump-the-depression-of-1920-1921/\n",
    "  \n",
    "  Kang, S. W., & Rockoff, H. (2015). Capitalizing patriotism: the Liberty loans of World War I. Financial History Review, 22(1), 45–78. doi:10.1017/S0968565015000037\n",
    "  \n",
    "  Rockoff, Hugh. (2012). Chapter 5 - World War I. *America’s Economic Way of War: War and the US economy from the Spanish-american war to the first Gulf war.* (pp. 99-154). Cambridge University Press. \n",
    "\n"
   ]
  }
 ],
 "metadata": {
  "colab": {
   "provenance": []
  },
  "kernelspec": {
   "display_name": "Python 3 (ipykernel)",
   "language": "python",
   "name": "python3"
  },
  "language_info": {
   "codemirror_mode": {
    "name": "ipython",
    "version": 3
   },
   "file_extension": ".py",
   "mimetype": "text/x-python",
   "name": "python",
   "nbconvert_exporter": "python",
   "pygments_lexer": "ipython3",
   "version": "3.12.4"
  }
 },
 "nbformat": 4,
 "nbformat_minor": 4
}
